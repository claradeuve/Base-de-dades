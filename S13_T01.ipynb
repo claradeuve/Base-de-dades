{
 "cells": [
  {
   "cell_type": "markdown",
   "id": "7c102898",
   "metadata": {},
   "source": [
    "## Exercici 1\n",
    "Crea una base relacional d’exemple utilitzant un document de text o a mà. Dissenya-la perquè contingui les següents taules, i estableix les relacions que consideris necessàries entre elles"
   ]
  },
  {
   "cell_type": "code",
   "execution_count": 2,
   "id": "49a5fc8b",
   "metadata": {},
   "outputs": [
    {
     "data": {
      "text/html": [
       "\n",
       "        <iframe\n",
       "            width=\"900\"\n",
       "            height=\"600\"\n",
       "            src=\"Diseño_BD.pdf\"\n",
       "            frameborder=\"0\"\n",
       "            allowfullscreen\n",
       "            \n",
       "        ></iframe>\n",
       "        "
      ],
      "text/plain": [
       "<IPython.lib.display.IFrame at 0x7f9a5b1e5c40>"
      ]
     },
     "execution_count": 2,
     "metadata": {},
     "output_type": "execute_result"
    }
   ],
   "source": [
    "from IPython.display import IFrame\n",
    "IFrame(\"Diseño_BD.pdf\", width=900, height=600)"
   ]
  },
  {
   "cell_type": "markdown",
   "id": "8d5091ed",
   "metadata": {},
   "source": [
    "## Exercici 2\n",
    "Utilitza un programa de creació de diagrames entitat-relació com http://dia-installer.de per crear el diagrama"
   ]
  },
  {
   "cell_type": "code",
   "execution_count": 3,
   "id": "c0e11c2a",
   "metadata": {},
   "outputs": [
    {
     "data": {
      "text/html": [
       "\n",
       "        <iframe\n",
       "            width=\"900\"\n",
       "            height=\"600\"\n",
       "            src=\"Diagram_DB.jpeg\"\n",
       "            frameborder=\"0\"\n",
       "            allowfullscreen\n",
       "            \n",
       "        ></iframe>\n",
       "        "
      ],
      "text/plain": [
       "<IPython.lib.display.IFrame at 0x7f9a5bfd14c0>"
      ]
     },
     "execution_count": 3,
     "metadata": {},
     "output_type": "execute_result"
    }
   ],
   "source": [
    "from IPython.display import IFrame\n",
    "IFrame(\"Diagram_DB.jpeg\", width=900, height=600)"
   ]
  },
  {
   "cell_type": "markdown",
   "id": "221b93eb",
   "metadata": {},
   "source": [
    "## Exercici 3\n",
    "Utilitza el Workbench de MySQL per crear un model relacional"
   ]
  },
  {
   "cell_type": "code",
   "execution_count": null,
   "id": "07c56b43",
   "metadata": {},
   "outputs": [],
   "source": []
  }
 ],
 "metadata": {
  "kernelspec": {
   "display_name": "Python 3 (ipykernel)",
   "language": "python",
   "name": "python3"
  },
  "language_info": {
   "codemirror_mode": {
    "name": "ipython",
    "version": 3
   },
   "file_extension": ".py",
   "mimetype": "text/x-python",
   "name": "python",
   "nbconvert_exporter": "python",
   "pygments_lexer": "ipython3",
   "version": "3.9.7"
  }
 },
 "nbformat": 4,
 "nbformat_minor": 5
}
