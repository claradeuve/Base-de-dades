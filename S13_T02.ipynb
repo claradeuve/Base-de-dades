{
 "cells": [
  {
   "cell_type": "markdown",
   "id": "2f63c454",
   "metadata": {},
   "source": [
    "## Exercici 1\n",
    "Crea una base de dades relacionals senzilla utilitzant MySQL(https://www.mysql.com/) i connecta-la a Python"
   ]
  },
  {
   "cell_type": "markdown",
   "id": "b4d76714",
   "metadata": {},
   "source": [
    "Primero, escribo el siguiente script SQL  para ejecutarlo con MySQL Workbench y así crear la base de datos:"
   ]
  },
  {
   "cell_type": "code",
   "execution_count": 8,
   "id": "72f4f1fd",
   "metadata": {},
   "outputs": [
    {
     "ename": "SyntaxError",
     "evalue": "invalid syntax (1661003942.py, line 1)",
     "output_type": "error",
     "traceback": [
      "\u001b[0;36m  File \u001b[0;32m\"/var/folders/5j/t9djkx8d4pl6qlxm40r48rz40000gp/T/ipykernel_1108/1661003942.py\"\u001b[0;36m, line \u001b[0;32m1\u001b[0m\n\u001b[0;31m    CREATE DATABASE IF NOT EXISTS Cine;\u001b[0m\n\u001b[0m           ^\u001b[0m\n\u001b[0;31mSyntaxError\u001b[0m\u001b[0;31m:\u001b[0m invalid syntax\n"
     ]
    }
   ],
   "source": [
    "CREATE DATABASE IF NOT EXISTS Cine;\n",
    "\n",
    "USE Cine;\n",
    "\n",
    "CREATE TABLE Pelicula (\n",
    "    id INT AUTO_INCREMENT PRIMARY KEY,\n",
    "    titulo VARCHAR(100),\n",
    "    fecha_estreno YEAR(4),\n",
    "    genero VARCHAR(100),\n",
    "    recaudacion_millones DECIMAL\n",
    ");\n",
    "\n",
    "CREATE TABLE Critica (\n",
    "    id INT AUTO_INCREMENT PRIMARY KEY,\n",
    "    nombre VARCHAR(100),\n",
    "    apellido VARCHAR(100)\n",
    ");\n",
    "\n",
    "CREATE TABLE Rating (\n",
    "    idPelicula INT,\n",
    "    idCritica INT,\n",
    "    rating DECIMAL(2,1),\n",
    "    FOREIGN KEY(idPelicula) REFERENCES Pelicula(id),\n",
    "    FOREIGN KEY(idCritica) REFERENCES Critica(id),\n",
    "    PRIMARY KEY(idPelicula, idCritica)\n",
    ");\n",
    "\n",
    "INSERT INTO Pelicula (titulo, fecha_estreno, genero, recaudacion_millones)\n",
    "VALUES\n",
    "    (\"Forrest Gump\", 1994, \"Drama\", 330.2),\n",
    "    (\"3 Idiots\", 2009, \"Drama\", 2.4),\n",
    "    (\"Eternal Sunshine of the Spotless Mind\", 2004, \"Drama\", 34.5),\n",
    "    (\"Good Will Hunting\", 1997, \"Drama\", 138.1),\n",
    "    (\"Skyfall\", 2012, \"Action\", 304.6),\n",
    "    (\"Gladiator\", 2000, \"Action\", 188.7),\n",
    "    (\"Black\", 2005, \"Drama\", 3.0),\n",
    "    (\"Titanic\", 1997, \"Romance\", 659.2),\n",
    "    (\"The Shawshank Redemption\", 1994, \"Drama\",28.4),\n",
    "    (\"Udaan\", 2010, \"Drama\", 1.5),\n",
    "    (\"Home Alone\", 1990, \"Comedy\", 286.9),\n",
    "    (\"Casablanca\", 1942, \"Romance\", 1.0),\n",
    "    (\"Avengers: Endgame\", 2019, \"Action\", 858.8),\n",
    "    (\"Night of the Living Dead\", 1968, \"Horror\", 2.5),\n",
    "    (\"The Godfather\", 1972, \"Crime\", 135.6),\n",
    "    (\"Haider\", 2014, \"Action\", 4.2),\n",
    "    (\"Inception\", 2010, \"Adventure\", 293.7),\n",
    "    (\"Evil\", 2003, \"Horror\", 1.3),\n",
    "    (\"Toy Story 4\", 2019, \"Animation\", 434.9),\n",
    "    (\"Air Force One\", 1997, \"Drama\", 138.1),\n",
    "    (\"The Dark Knight\", 2008, \"Action\",535.4),\n",
    "    (\"Bhaag Milkha Bhaag\", 2013, \"Sport\", 4.1),\n",
    "    (\"The Lion King\", 1994, \"Animation\", 423.6),\n",
    "    (\"Pulp Fiction\", 1994, \"Crime\", 108.8),\n",
    "    (\"Kai Po Che\", 2013, \"Sport\", 6.0),\n",
    "    (\"Beasts of No Nation\", 2015, \"War\", 1.4),\n",
    "    (\"Andadhun\", 2018, \"Thriller\", 2.9),\n",
    "    (\"The Silence of the Lambs\", 1991, \"Crime\", 68.2),\n",
    "    (\"Deadpool\", 2016, \"Action\", 363.6),\n",
    "    (\"Drishyam\", 2015, \"Mystery\", 3.0);\n",
    "    \n",
    "INSERT INTO Critica (nombre, apellido) \n",
    "VALUES\n",
    "    (\"Chaitanya\", \"Baweja\"),\n",
    "    (\"Mary\", \"Cooper\"),\n",
    "    (\"John\", \"Wayne\"),\n",
    "    (\"Thomas\", \"Stoneman\"),\n",
    "    (\"Penny\", \"Hofstadter\"),\n",
    "    (\"Mitchell\", \"Marsh\"),\n",
    "    (\"Wyatt\", \"Skaggs\"),\n",
    "    (\"Andre\", \"Veiga\"),\n",
    "    (\"Sheldon\", \"Cooper\"),\n",
    "    (\"Kimbra\", \"Masters\"),\n",
    "    (\"Kat\", \"Dennings\"),\n",
    "    (\"Bruce\", \"Wayne\"),\n",
    "    (\"Domingo\", \"Cortes\"),\n",
    "    (\"Rajesh\", \"Koothrappali\"),\n",
    "    (\"Ben\", \"Glocker\"),\n",
    "    (\"Mahinder\", \"Dhoni\"),\n",
    "    (\"Akbar\", \"Khan\"),\n",
    "    (\"Howard\", \"Wolowitz\"),\n",
    "    (\"Pinkie\", \"Petit\"),\n",
    "    (\"Gurkaran\", \"Singh\"),\n",
    "    (\"Amy\", \"Farah Fowler\"),\n",
    "    (\"Marlon\", \"Crafford\");\n",
    "    \n",
    "INSERT INTO Rating (rating, idPelicula, idCritica)\n",
    "VALUES\n",
    "    (6.4, 17, 5), (5.6, 19, 1), (6.3, 22, 14), (5.1, 21, 17),\n",
    "    (5.0, 5, 5), (6.5, 21, 5), (8.5, 30, 13), (9.7, 6, 4),\n",
    "    (8.5, 24, 12), (9.9, 14, 9), (8.7, 26, 14), (9.9, 6, 10),\n",
    "    (5.1, 30, 6), (5.4, 18, 16), (6.2, 6, 20), (7.3, 21, 19),\n",
    "    (8.1, 17, 18), (5.0, 7, 2), (9.8, 23, 3), (8.0, 22, 9),\n",
    "    (8.5, 11, 13), (5.0, 5, 11), (5.7, 8, 2), (7.6, 25, 19),\n",
    "    (5.2, 18, 15), (9.7, 13, 3), (5.8, 18, 8), (5.8, 30, 15),\n",
    "    (8.4, 21, 18), (6.2, 23, 16), (7.0, 10, 18), (9.5, 30, 20),\n",
    "    (8.9, 3, 19), (6.4, 12, 2), (7.8, 12, 22), (9.9, 15, 13),\n",
    "    (7.5, 20, 17), (9.0, 25, 6), (8.5, 23, 2), (5.3, 30, 17),\n",
    "    (6.4, 5, 10), (8.1, 5, 21), (5.7, 22, 1), (6.3, 28, 4),\n",
    "    (9.8, 13, 1);"
   ]
  },
  {
   "cell_type": "markdown",
   "id": "37c8e48d",
   "metadata": {},
   "source": [
    "Después conecto el notebook con la base de datos. Por razones de seguridad los campos user y password están vacíos."
   ]
  },
  {
   "cell_type": "code",
   "execution_count": 9,
   "id": "01a35f25",
   "metadata": {},
   "outputs": [],
   "source": [
    "import mysql.connector\n",
    "\n",
    "config = {\n",
    "  'user': '',\n",
    "  'password': '',\n",
    "  'host': '127.0.0.1',\n",
    "  'database': 'Cine',\n",
    "  'raise_on_warnings': True\n",
    "}\n",
    "\n",
    "cnx = mysql.connector.connect(**config)"
   ]
  },
  {
   "cell_type": "markdown",
   "id": "ebd68752",
   "metadata": {},
   "source": [
    "## Exercici 2\n",
    "Mostra que pots carregar algunes consultes senzilles a un Pandas Dataframe"
   ]
  },
  {
   "cell_type": "markdown",
   "id": "24ed9d24",
   "metadata": {},
   "source": [
    "**Géneros más populares**"
   ]
  },
  {
   "cell_type": "code",
   "execution_count": 10,
   "id": "06ec937b",
   "metadata": {},
   "outputs": [
    {
     "data": {
      "text/html": [
       "<div>\n",
       "<style scoped>\n",
       "    .dataframe tbody tr th:only-of-type {\n",
       "        vertical-align: middle;\n",
       "    }\n",
       "\n",
       "    .dataframe tbody tr th {\n",
       "        vertical-align: top;\n",
       "    }\n",
       "\n",
       "    .dataframe thead th {\n",
       "        text-align: right;\n",
       "    }\n",
       "</style>\n",
       "<table border=\"1\" class=\"dataframe\">\n",
       "  <thead>\n",
       "    <tr style=\"text-align: right;\">\n",
       "      <th></th>\n",
       "      <th>genero</th>\n",
       "      <th>num_peliculas</th>\n",
       "    </tr>\n",
       "  </thead>\n",
       "  <tbody>\n",
       "    <tr>\n",
       "      <th>0</th>\n",
       "      <td>Drama</td>\n",
       "      <td>8</td>\n",
       "    </tr>\n",
       "    <tr>\n",
       "      <th>1</th>\n",
       "      <td>Action</td>\n",
       "      <td>6</td>\n",
       "    </tr>\n",
       "    <tr>\n",
       "      <th>2</th>\n",
       "      <td>Crime</td>\n",
       "      <td>3</td>\n",
       "    </tr>\n",
       "  </tbody>\n",
       "</table>\n",
       "</div>"
      ],
      "text/plain": [
       "   genero  num_peliculas\n",
       "0   Drama              8\n",
       "1  Action              6\n",
       "2   Crime              3"
      ]
     },
     "metadata": {},
     "output_type": "display_data"
    }
   ],
   "source": [
    "import pandas as pd\n",
    "\n",
    "generos_mas_populares = pd.read_sql(\n",
    "    \"\"\"\n",
    "    SELECT genero, COUNT(*) as num_peliculas \n",
    "    FROM Pelicula \n",
    "    GROUP BY genero \n",
    "    ORDER BY num_peliculas DESC\n",
    "    LIMIT 3\n",
    "    \"\"\", \n",
    "    cnx\n",
    ")\n",
    "\n",
    "display(generos_mas_populares)"
   ]
  },
  {
   "cell_type": "markdown",
   "id": "d5d4495c",
   "metadata": {},
   "source": [
    "**Cantidad de películas por año**"
   ]
  },
  {
   "cell_type": "code",
   "execution_count": 11,
   "id": "4c420aee",
   "metadata": {},
   "outputs": [
    {
     "data": {
      "text/html": [
       "<div>\n",
       "<style scoped>\n",
       "    .dataframe tbody tr th:only-of-type {\n",
       "        vertical-align: middle;\n",
       "    }\n",
       "\n",
       "    .dataframe tbody tr th {\n",
       "        vertical-align: top;\n",
       "    }\n",
       "\n",
       "    .dataframe thead th {\n",
       "        text-align: right;\n",
       "    }\n",
       "</style>\n",
       "<table border=\"1\" class=\"dataframe\">\n",
       "  <thead>\n",
       "    <tr style=\"text-align: right;\">\n",
       "      <th></th>\n",
       "      <th>fecha_estreno</th>\n",
       "      <th>num_peliculas</th>\n",
       "    </tr>\n",
       "  </thead>\n",
       "  <tbody>\n",
       "    <tr>\n",
       "      <th>0</th>\n",
       "      <td>1942</td>\n",
       "      <td>1</td>\n",
       "    </tr>\n",
       "    <tr>\n",
       "      <th>1</th>\n",
       "      <td>1968</td>\n",
       "      <td>1</td>\n",
       "    </tr>\n",
       "    <tr>\n",
       "      <th>2</th>\n",
       "      <td>1972</td>\n",
       "      <td>1</td>\n",
       "    </tr>\n",
       "    <tr>\n",
       "      <th>3</th>\n",
       "      <td>1990</td>\n",
       "      <td>1</td>\n",
       "    </tr>\n",
       "    <tr>\n",
       "      <th>4</th>\n",
       "      <td>1991</td>\n",
       "      <td>1</td>\n",
       "    </tr>\n",
       "    <tr>\n",
       "      <th>5</th>\n",
       "      <td>1994</td>\n",
       "      <td>4</td>\n",
       "    </tr>\n",
       "    <tr>\n",
       "      <th>6</th>\n",
       "      <td>1997</td>\n",
       "      <td>3</td>\n",
       "    </tr>\n",
       "    <tr>\n",
       "      <th>7</th>\n",
       "      <td>2000</td>\n",
       "      <td>1</td>\n",
       "    </tr>\n",
       "    <tr>\n",
       "      <th>8</th>\n",
       "      <td>2003</td>\n",
       "      <td>1</td>\n",
       "    </tr>\n",
       "    <tr>\n",
       "      <th>9</th>\n",
       "      <td>2004</td>\n",
       "      <td>1</td>\n",
       "    </tr>\n",
       "    <tr>\n",
       "      <th>10</th>\n",
       "      <td>2005</td>\n",
       "      <td>1</td>\n",
       "    </tr>\n",
       "    <tr>\n",
       "      <th>11</th>\n",
       "      <td>2008</td>\n",
       "      <td>1</td>\n",
       "    </tr>\n",
       "    <tr>\n",
       "      <th>12</th>\n",
       "      <td>2009</td>\n",
       "      <td>1</td>\n",
       "    </tr>\n",
       "    <tr>\n",
       "      <th>13</th>\n",
       "      <td>2010</td>\n",
       "      <td>2</td>\n",
       "    </tr>\n",
       "    <tr>\n",
       "      <th>14</th>\n",
       "      <td>2012</td>\n",
       "      <td>1</td>\n",
       "    </tr>\n",
       "    <tr>\n",
       "      <th>15</th>\n",
       "      <td>2013</td>\n",
       "      <td>2</td>\n",
       "    </tr>\n",
       "    <tr>\n",
       "      <th>16</th>\n",
       "      <td>2014</td>\n",
       "      <td>1</td>\n",
       "    </tr>\n",
       "    <tr>\n",
       "      <th>17</th>\n",
       "      <td>2015</td>\n",
       "      <td>2</td>\n",
       "    </tr>\n",
       "    <tr>\n",
       "      <th>18</th>\n",
       "      <td>2016</td>\n",
       "      <td>1</td>\n",
       "    </tr>\n",
       "    <tr>\n",
       "      <th>19</th>\n",
       "      <td>2018</td>\n",
       "      <td>1</td>\n",
       "    </tr>\n",
       "    <tr>\n",
       "      <th>20</th>\n",
       "      <td>2019</td>\n",
       "      <td>2</td>\n",
       "    </tr>\n",
       "  </tbody>\n",
       "</table>\n",
       "</div>"
      ],
      "text/plain": [
       "    fecha_estreno  num_peliculas\n",
       "0            1942              1\n",
       "1            1968              1\n",
       "2            1972              1\n",
       "3            1990              1\n",
       "4            1991              1\n",
       "5            1994              4\n",
       "6            1997              3\n",
       "7            2000              1\n",
       "8            2003              1\n",
       "9            2004              1\n",
       "10           2005              1\n",
       "11           2008              1\n",
       "12           2009              1\n",
       "13           2010              2\n",
       "14           2012              1\n",
       "15           2013              2\n",
       "16           2014              1\n",
       "17           2015              2\n",
       "18           2016              1\n",
       "19           2018              1\n",
       "20           2019              2"
      ]
     },
     "metadata": {},
     "output_type": "display_data"
    }
   ],
   "source": [
    "pelis_por_fecha = pd.read_sql(\n",
    "    \"\"\"\n",
    "    SELECT fecha_estreno, COUNT(*) as num_peliculas \n",
    "    FROM Pelicula \n",
    "    GROUP BY fecha_estreno \n",
    "    ORDER BY fecha_estreno ASC\n",
    "    \"\"\", \n",
    "    cnx\n",
    ")\n",
    "\n",
    "display(pelis_por_fecha)"
   ]
  },
  {
   "cell_type": "markdown",
   "id": "d0db3b06",
   "metadata": {},
   "source": [
    "**Películas más taquileras**"
   ]
  },
  {
   "cell_type": "code",
   "execution_count": 12,
   "id": "c624bb95",
   "metadata": {},
   "outputs": [
    {
     "data": {
      "text/html": [
       "<div>\n",
       "<style scoped>\n",
       "    .dataframe tbody tr th:only-of-type {\n",
       "        vertical-align: middle;\n",
       "    }\n",
       "\n",
       "    .dataframe tbody tr th {\n",
       "        vertical-align: top;\n",
       "    }\n",
       "\n",
       "    .dataframe thead th {\n",
       "        text-align: right;\n",
       "    }\n",
       "</style>\n",
       "<table border=\"1\" class=\"dataframe\">\n",
       "  <thead>\n",
       "    <tr style=\"text-align: right;\">\n",
       "      <th></th>\n",
       "      <th>titulo</th>\n",
       "      <th>recaudacion_millones</th>\n",
       "    </tr>\n",
       "  </thead>\n",
       "  <tbody>\n",
       "    <tr>\n",
       "      <th>0</th>\n",
       "      <td>Avengers: Endgame</td>\n",
       "      <td>859.0</td>\n",
       "    </tr>\n",
       "    <tr>\n",
       "      <th>1</th>\n",
       "      <td>Titanic</td>\n",
       "      <td>659.0</td>\n",
       "    </tr>\n",
       "    <tr>\n",
       "      <th>2</th>\n",
       "      <td>The Dark Knight</td>\n",
       "      <td>535.0</td>\n",
       "    </tr>\n",
       "  </tbody>\n",
       "</table>\n",
       "</div>"
      ],
      "text/plain": [
       "              titulo  recaudacion_millones\n",
       "0  Avengers: Endgame                 859.0\n",
       "1            Titanic                 659.0\n",
       "2    The Dark Knight                 535.0"
      ]
     },
     "metadata": {},
     "output_type": "display_data"
    }
   ],
   "source": [
    "pelis_mas_taquilleras = pd.read_sql(\n",
    "    \"\"\"\n",
    "    SELECT titulo, recaudacion_millones \n",
    "    FROM Pelicula \n",
    "    ORDER BY recaudacion_millones DESC\n",
    "    LIMIT 3\n",
    "    \"\"\", \n",
    "    cnx\n",
    ")\n",
    "\n",
    "display(pelis_mas_taquilleras)"
   ]
  },
  {
   "cell_type": "markdown",
   "id": "d995a1f3",
   "metadata": {},
   "source": [
    "**Críticas que puntúan más bajo**"
   ]
  },
  {
   "cell_type": "code",
   "execution_count": 13,
   "id": "18fc17b7",
   "metadata": {},
   "outputs": [
    {
     "data": {
      "text/html": [
       "<div>\n",
       "<style scoped>\n",
       "    .dataframe tbody tr th:only-of-type {\n",
       "        vertical-align: middle;\n",
       "    }\n",
       "\n",
       "    .dataframe tbody tr th {\n",
       "        vertical-align: top;\n",
       "    }\n",
       "\n",
       "    .dataframe thead th {\n",
       "        text-align: right;\n",
       "    }\n",
       "</style>\n",
       "<table border=\"1\" class=\"dataframe\">\n",
       "  <thead>\n",
       "    <tr style=\"text-align: right;\">\n",
       "      <th></th>\n",
       "      <th>nombre</th>\n",
       "      <th>apellido</th>\n",
       "      <th>media_ratings</th>\n",
       "    </tr>\n",
       "  </thead>\n",
       "  <tbody>\n",
       "    <tr>\n",
       "      <th>0</th>\n",
       "      <td>Kat</td>\n",
       "      <td>Dennings</td>\n",
       "      <td>5.0</td>\n",
       "    </tr>\n",
       "    <tr>\n",
       "      <th>1</th>\n",
       "      <td>Ben</td>\n",
       "      <td>Glocker</td>\n",
       "      <td>5.5</td>\n",
       "    </tr>\n",
       "    <tr>\n",
       "      <th>2</th>\n",
       "      <td>Andre</td>\n",
       "      <td>Veiga</td>\n",
       "      <td>5.8</td>\n",
       "    </tr>\n",
       "  </tbody>\n",
       "</table>\n",
       "</div>"
      ],
      "text/plain": [
       "  nombre  apellido  media_ratings\n",
       "0    Kat  Dennings            5.0\n",
       "1    Ben   Glocker            5.5\n",
       "2  Andre     Veiga            5.8"
      ]
     },
     "metadata": {},
     "output_type": "display_data"
    }
   ],
   "source": [
    "criticas_mas_duras = pd.read_sql(\n",
    "    \"\"\"\n",
    "    SELECT nombre, apellido, AVG(rating) as media_ratings\n",
    "    FROM Critica c\n",
    "    JOIN Rating r ON c.id = r.idCritica\n",
    "    GROUP BY c.id\n",
    "    ORDER BY media_ratings ASC\n",
    "    LIMIT 3\n",
    "    \"\"\", \n",
    "    cnx\n",
    ")\n",
    "\n",
    "display(criticas_mas_duras)"
   ]
  },
  {
   "cell_type": "markdown",
   "id": "dc172fec",
   "metadata": {},
   "source": [
    "**Películas mejor valoradas**"
   ]
  },
  {
   "cell_type": "code",
   "execution_count": 14,
   "id": "6001f4be",
   "metadata": {},
   "outputs": [
    {
     "data": {
      "text/html": [
       "<div>\n",
       "<style scoped>\n",
       "    .dataframe tbody tr th:only-of-type {\n",
       "        vertical-align: middle;\n",
       "    }\n",
       "\n",
       "    .dataframe tbody tr th {\n",
       "        vertical-align: top;\n",
       "    }\n",
       "\n",
       "    .dataframe thead th {\n",
       "        text-align: right;\n",
       "    }\n",
       "</style>\n",
       "<table border=\"1\" class=\"dataframe\">\n",
       "  <thead>\n",
       "    <tr style=\"text-align: right;\">\n",
       "      <th></th>\n",
       "      <th>titulo</th>\n",
       "      <th>media_ratings</th>\n",
       "    </tr>\n",
       "  </thead>\n",
       "  <tbody>\n",
       "    <tr>\n",
       "      <th>0</th>\n",
       "      <td>Eternal Sunshine of the Spotless Mind</td>\n",
       "      <td>9.75</td>\n",
       "    </tr>\n",
       "    <tr>\n",
       "      <th>1</th>\n",
       "      <td>Avengers: Endgame</td>\n",
       "      <td>8.97</td>\n",
       "    </tr>\n",
       "    <tr>\n",
       "      <th>2</th>\n",
       "      <td>The Shawshank Redemption</td>\n",
       "      <td>8.95</td>\n",
       "    </tr>\n",
       "  </tbody>\n",
       "</table>\n",
       "</div>"
      ],
      "text/plain": [
       "                                  titulo  media_ratings\n",
       "0  Eternal Sunshine of the Spotless Mind           9.75\n",
       "1                      Avengers: Endgame           8.97\n",
       "2               The Shawshank Redemption           8.95"
      ]
     },
     "metadata": {},
     "output_type": "display_data"
    }
   ],
   "source": [
    "pelis_mejor_valoradas = pd.read_sql(\n",
    "    \"\"\"\n",
    "    SELECT p.titulo, ROUND(AVG(r.rating), 2) as media_ratings\n",
    "    FROM Rating r\n",
    "    JOIN Pelicula p ON p.id = r.idCritica\n",
    "    GROUP BY p.titulo\n",
    "    ORDER BY media_ratings DESC\n",
    "    LIMIT 3\n",
    "    \"\"\", \n",
    "    cnx\n",
    ")\n",
    "\n",
    "display(pelis_mejor_valoradas)"
   ]
  },
  {
   "cell_type": "markdown",
   "id": "4aa686bd",
   "metadata": {},
   "source": [
    "## Exercici 3\n",
    "Genera algun gràfic que resumeixi les dades"
   ]
  },
  {
   "cell_type": "code",
   "execution_count": 15,
   "id": "98b2fe67",
   "metadata": {},
   "outputs": [],
   "source": [
    "import seaborn as sns\n",
    "import matplotlib.pyplot as plt\n",
    "import matplotlib.ticker as ticker\n",
    "import numpy as np"
   ]
  },
  {
   "cell_type": "markdown",
   "id": "2dc798fb",
   "metadata": {},
   "source": [
    "**Proporción de géneros**"
   ]
  },
  {
   "cell_type": "code",
   "execution_count": 16,
   "id": "4c98dbbe",
   "metadata": {},
   "outputs": [
    {
     "data": {
      "image/png": "[encoded data removed]",
      "text/plain": [
       "<Figure size 432x288 with 1 Axes>"
      ]
     },
     "metadata": {},
     "output_type": "display_data"
    }
   ],
   "source": [
    "generos = pd.read_sql(\n",
    "    \"\"\"\n",
    "    SELECT genero, COUNT(*) as num_peliculas \n",
    "    FROM Pelicula \n",
    "    GROUP BY genero \n",
    "    \"\"\", \n",
    "    cnx\n",
    ")\n",
    "\n",
    "palette_color = sns.color_palette('pastel')\n",
    "plt.pie(generos['num_peliculas'], labels=generos['genero'], colors=palette_color, autopct='%.0f%%')\n",
    "plt.show()"
   ]
  },
  {
   "cell_type": "markdown",
   "id": "9baf8dc9",
   "metadata": {},
   "source": [
    "**Cantidad de películas por año**"
   ]
  },
  {
   "cell_type": "code",
   "execution_count": 17,
   "id": "d41b6ca3",
   "metadata": {},
   "outputs": [
    {
     "data": {
      "image/png": "[encoded data removed]",
      "text/plain": [
       "<Figure size 432x288 with 1 Axes>"
      ]
     },
     "metadata": {
      "needs_background": "light"
     },
     "output_type": "display_data"
    }
   ],
   "source": [
    "pelis_por_fecha = pd.read_sql(\n",
    "    \"\"\"\n",
    "    SELECT fecha_estreno as fecha, COUNT(*) as num_peliculas \n",
    "    FROM Pelicula \n",
    "    GROUP BY fecha\n",
    "    \"\"\", \n",
    "    cnx\n",
    ")\n",
    "\n",
    "\n",
    "ax = sns.lineplot(data=pelis_por_fecha, x=\"fecha\", y=\"num_peliculas\")\n",
    "plt.xticks(rotation=45)\n",
    "plt.xlabel('Año')\n",
    "plt.ylabel('Número de películas')\n",
    "plt.grid()\n",
    "plt.show()"
   ]
  },
  {
   "cell_type": "markdown",
   "id": "e1d12f05",
   "metadata": {},
   "source": [
    "**Géneros de películas por año**"
   ]
  },
  {
   "cell_type": "code",
   "execution_count": 18,
   "id": "bf4451c8",
   "metadata": {},
   "outputs": [
    {
     "data": {
      "image/png": "[encoded data removed]",
      "text/plain": [
       "<Figure size 432x288 with 1 Axes>"
      ]
     },
     "metadata": {
      "needs_background": "light"
     },
     "output_type": "display_data"
    }
   ],
   "source": [
    "generos_por_fecha = pd.read_sql(\n",
    "    \"\"\"\n",
    "    SELECT genero, fecha_estreno as fecha, COUNT(*) as num_peliculas \n",
    "    FROM Pelicula \n",
    "    GROUP BY fecha, genero \n",
    "    \"\"\", \n",
    "    cnx\n",
    ")\n",
    "\n",
    "ax = sns.barplot(data=generos_por_fecha, x=\"fecha\", y=\"num_peliculas\", hue=\"genero\")\n",
    "ax.yaxis.set_major_locator(ticker.MultipleLocator(2))\n",
    "ax.xaxis.set_major_locator(ticker.MultipleLocator(5))\n",
    "plt.legend(bbox_to_anchor=(1.0, 1.0))\n",
    "plt.xlabel('Año')\n",
    "plt.ylabel('Número de películas')\n",
    "plt.show()"
   ]
  },
  {
   "cell_type": "markdown",
   "id": "d995d20f",
   "metadata": {},
   "source": [
    "**Valoración media por película**"
   ]
  },
  {
   "cell_type": "code",
   "execution_count": 19,
   "id": "4a6d0c7f",
   "metadata": {},
   "outputs": [
    {
     "data": {
      "image/png": "[encoded data removed]",
      "text/plain": [
       "<Figure size 432x288 with 1 Axes>"
      ]
     },
     "metadata": {
      "needs_background": "light"
     },
     "output_type": "display_data"
    }
   ],
   "source": [
    "pelis_valoracion_media = pd.read_sql(\n",
    "    \"\"\"\n",
    "    SELECT p.titulo, ROUND(AVG(r.rating), 2) as media_ratings\n",
    "    FROM Rating r\n",
    "    JOIN Pelicula p ON p.id = r.idCritica\n",
    "    GROUP BY p.titulo\n",
    "    \"\"\", \n",
    "    cnx\n",
    ")\n",
    "\n",
    "sns.scatterplot(x=\"media_ratings\", y=\"titulo\", data=pelis_valoracion_media)\n",
    "plt.ylabel(\"Película\")\n",
    "plt.xlabel(\"Valoración media\")\n",
    "plt.grid()\n",
    "plt.show()"
   ]
  },
  {
   "cell_type": "markdown",
   "id": "1f44f17b",
   "metadata": {},
   "source": [
    "**Valoración por crítica de las películas**"
   ]
  },
  {
   "cell_type": "code",
   "execution_count": 21,
   "id": "568a089f",
   "metadata": {},
   "outputs": [
    {
     "data": {
      "image/png": "[encoded data removed]",
      "text/plain": [
       "<Figure size 432x288 with 2 Axes>"
      ]
     },
     "metadata": {
      "needs_background": "light"
     },
     "output_type": "display_data"
    },
    {
     "data": {
      "text/plain": [
       "<Figure size 2160x1080 with 0 Axes>"
      ]
     },
     "metadata": {},
     "output_type": "display_data"
    }
   ],
   "source": [
    "criticas = pd.read_sql(\n",
    "    \"\"\"\n",
    "    SELECT p.titulo as titulo, p.id as pelicula, c.nombre as nombre, c.apellido as apellido, c.id as critica, r.rating\n",
    "    FROM Critica c\n",
    "    JOIN Rating r ON c.id = r.idCritica\n",
    "    JOIN Pelicula p ON r.idPelicula = p.id\n",
    "    ORDER BY critica\n",
    "    \"\"\", \n",
    "    cnx\n",
    ")\n",
    "\n",
    "\n",
    "def quitar_repetidos(seq):\n",
    "    seen = set()\n",
    "    seen_add = seen.add\n",
    "    return [x for x in seq if not (x in seen or seen_add(x))]\n",
    "\n",
    "\n",
    "\n",
    "lista_criticas_nombres = []\n",
    "\n",
    "for i in range(len(criticas['nombre'])):\n",
    "    nombre_completo = criticas['nombre'][i] + ' ' + criticas['apellido'][i]\n",
    "    lista_criticas_nombres.append(nombre_completo)\n",
    "    \n",
    "nombres_critica = quitar_repetidos(lista_criticas_nombres)\n",
    "\n",
    "\n",
    "lista_peliculas_titulos = criticas['titulo']\n",
    "titulos_pelicula = quitar_repetidos(lista_peliculas_titulos)\n",
    "\n",
    "\n",
    "criticas = criticas.pivot(\"pelicula\", \"critica\", \"rating\")\n",
    "ax = sns.heatmap(criticas, linewidths=0.5, cmap=\"YlGnBu\")\n",
    "ax.yaxis.set_major_locator(ticker.FixedLocator([i for i in range(len(titulos_pelicula))]))\n",
    "ax.set_xticklabels(nombres_critica)\n",
    "plt.xticks(rotation=90)\n",
    "ax.set_yticklabels(titulos_pelicula)\n",
    "plt.yticks(rotation=0)\n",
    "plt.figure(figsize=(30,15))\n",
    "plt.show()"
   ]
  }
 ],
 "metadata": {
  "kernelspec": {
   "display_name": "Python 3 (ipykernel)",
   "language": "python",
   "name": "python3"
  },
  "language_info": {
   "codemirror_mode": {
    "name": "ipython",
    "version": 3
   },
   "file_extension": ".py",
   "mimetype": "text/x-python",
   "name": "python",
   "nbconvert_exporter": "python",
   "pygments_lexer": "ipython3",
   "version": "3.9.7"
  }
 },
 "nbformat": 4,
 "nbformat_minor": 5
}
